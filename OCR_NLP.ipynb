{
 "cells": [
  {
   "cell_type": "code",
   "execution_count": 1,
   "metadata": {},
   "outputs": [],
   "source": [
    "import glob\n",
    "import cv2\n",
    "import pytesseract"
   ]
  },
  {
   "cell_type": "code",
   "execution_count": 2,
   "metadata": {},
   "outputs": [],
   "source": [
    "pytesseract.pytesseract.tesseract_cmd='C:\\\\Program Files (x86)\\\\Tesseract-OCR\\\\tesseract.exe'"
   ]
  },
  {
   "cell_type": "code",
   "execution_count": 3,
   "metadata": {},
   "outputs": [],
   "source": [
    "images = []\n",
    "imagename=[]\n",
    "imagetext=[]\n",
    "for img in glob.glob('C:\\\\Users\\\\SHAKYA\\\\Desktop\\\\Data_Science_files\\\\Hackerearth Database\\\\NLP\\\\OCR\\\\Dataset\\\\*.jpg'):\n",
    "    n= cv2.imread(img)\n",
    "    image=cv2.cvtColor(n,cv2.COLOR_BGR2GRAY)\n",
    "    image = cv2.resize(image, None, fx=1.5, fy=1.5,interpolation=cv2.INTER_LINEAR)\n",
    "    ret,thresh_img = cv2.threshold(image,127,255,cv2.THRESH_TOZERO)\n",
    "    images.append(thresh_img)\n",
    "    filename, ext = (img.split('\\\\')[-1].split('.'))\n",
    "    imagename.append(filename+'.'+ext)\n",
    "    imagetext.append(pytesseract.image_to_string(thresh_img))\n",
    "    \n",
    "    "
   ]
  },
  {
   "cell_type": "code",
   "execution_count": 4,
   "metadata": {},
   "outputs": [],
   "source": [
    "import pandas as pd\n",
    "import re"
   ]
  },
  {
   "cell_type": "code",
   "execution_count": 5,
   "metadata": {},
   "outputs": [],
   "source": [
    "df=pd.DataFrame({'ImageName':imagename,'ImageText':imagetext})"
   ]
  },
  {
   "cell_type": "code",
   "execution_count": 6,
   "metadata": {},
   "outputs": [
    {
     "data": {
      "text/html": [
       "<div>\n",
       "<style scoped>\n",
       "    .dataframe tbody tr th:only-of-type {\n",
       "        vertical-align: middle;\n",
       "    }\n",
       "\n",
       "    .dataframe tbody tr th {\n",
       "        vertical-align: top;\n",
       "    }\n",
       "\n",
       "    .dataframe thead th {\n",
       "        text-align: right;\n",
       "    }\n",
       "</style>\n",
       "<table border=\"1\" class=\"dataframe\">\n",
       "  <thead>\n",
       "    <tr style=\"text-align: right;\">\n",
       "      <th></th>\n",
       "      <th>ImageName</th>\n",
       "      <th>ImageText</th>\n",
       "    </tr>\n",
       "  </thead>\n",
       "  <tbody>\n",
       "    <tr>\n",
       "      <td>0</td>\n",
       "      <td>Test100.jpg</td>\n",
       "      <td></td>\n",
       "    </tr>\n",
       "    <tr>\n",
       "      <td>1</td>\n",
       "      <td>Test1001.jpg</td>\n",
       "      <td>When people ask\\nwhat I see in you,\\n\\nI just ...</td>\n",
       "    </tr>\n",
       "    <tr>\n",
       "      <td>2</td>\n",
       "      <td>Test1012.jpg</td>\n",
       "      <td>LOVE\\nis TOO\\nTO BE HI\\nIN THE CL</td>\n",
       "    </tr>\n",
       "    <tr>\n",
       "      <td>3</td>\n",
       "      <td>Test1022.jpg</td>\n",
       "      <td>LOVE</td>\n",
       "    </tr>\n",
       "    <tr>\n",
       "      <td>4</td>\n",
       "      <td>Test103.jpg</td>\n",
       "      <td>: MTBE</td>\n",
       "    </tr>\n",
       "  </tbody>\n",
       "</table>\n",
       "</div>"
      ],
      "text/plain": [
       "      ImageName                                          ImageText\n",
       "0   Test100.jpg                                                   \n",
       "1  Test1001.jpg  When people ask\\nwhat I see in you,\\n\\nI just ...\n",
       "2  Test1012.jpg                  LOVE\\nis TOO\\nTO BE HI\\nIN THE CL\n",
       "3  Test1022.jpg                                               LOVE\n",
       "4   Test103.jpg                                             : MTBE"
      ]
     },
     "execution_count": 6,
     "metadata": {},
     "output_type": "execute_result"
    }
   ],
   "source": [
    "df.head()"
   ]
  },
  {
   "cell_type": "code",
   "execution_count": 7,
   "metadata": {},
   "outputs": [
    {
     "data": {
      "text/plain": [
       "239"
      ]
     },
     "execution_count": 7,
     "metadata": {},
     "output_type": "execute_result"
    }
   ],
   "source": [
    "len(df)"
   ]
  },
  {
   "cell_type": "code",
   "execution_count": 8,
   "metadata": {},
   "outputs": [],
   "source": [
    "def clean_text(data,col):\n",
    "    corpus=[]\n",
    "    for i in range(len(data[col])):\n",
    "        text=re.sub(r'http\\S+', ' ', data[col][i])\n",
    "        text=text.lower()\n",
    "        text=re.sub(r\"that's\",\"that is\",text)\n",
    "        text = re.sub(r\"there's\",\"there is\",text)\n",
    "        text = re.sub(r\"what's\",\"what is\",text)\n",
    "        text = re.sub(r\"where's\",\"where is\",text)\n",
    "        text = re.sub(r\"it's\",\"it is\",text)\n",
    "        text = re.sub(r\"who's\",\"who is\",text)\n",
    "        text = re.sub(r\"i'm\",\"i am\",text)\n",
    "        text = re.sub(r\"she's\",\"she is\",text)\n",
    "        text = re.sub(r\"he's\",\"he is\",text)\n",
    "        text = re.sub(r\"they're\",\"they are\",text)\n",
    "        text = re.sub(r\"who're\",\"who are\",text)\n",
    "        text = re.sub(r\"ain't\",\"am not\",text)\n",
    "        text = re.sub(r\"wouldn't\",\"would not\",text)\n",
    "        text = re.sub(r\"shouldn't\",\"should not\",text)\n",
    "        text = re.sub(r\"can't\",\"can not\",text)\n",
    "        text = re.sub(r\"couldn't\",\"could not\",text)\n",
    "        text = re.sub(r\"won't\",\"will not\",text)\n",
    "        text=re.sub(r'[@#\\$%&\\*\\(\\)\\<\\>\\?\\!\\;\\'\\\\-\\_\"]',' ',text)\n",
    "        text= re.sub(r'\\W',' ',text)\n",
    "        text=re.sub(r'\\d',' ',text)\n",
    "        text=re.sub(r'^[a-z]\\s',' ',text)\n",
    "        text=re.sub(r'\\s+[a-z]\\s+',' ',text)\n",
    "        text=re.sub(r'\\s+[a-z]$',' ',text)\n",
    "        text=re.sub(r'\\s+',' ',text)\n",
    "        corpus.append(text)\n",
    "    return corpus"
   ]
  },
  {
   "cell_type": "code",
   "execution_count": 9,
   "metadata": {},
   "outputs": [],
   "source": [
    "df['CleanedText']=clean_text(df,'ImageText')"
   ]
  },
  {
   "cell_type": "code",
   "execution_count": 11,
   "metadata": {
    "scrolled": true
   },
   "outputs": [
    {
     "name": "stderr",
     "output_type": "stream",
     "text": [
      "[nltk_data] Downloading package stopwords to\n",
      "[nltk_data]     C:\\Users\\SHAKYA\\AppData\\Roaming\\nltk_data...\n",
      "[nltk_data]   Package stopwords is already up-to-date!\n",
      "[nltk_data] Downloading package punkt to\n",
      "[nltk_data]     C:\\Users\\SHAKYA\\AppData\\Roaming\\nltk_data...\n",
      "[nltk_data]   Package punkt is already up-to-date!\n"
     ]
    },
    {
     "data": {
      "text/plain": [
       "True"
      ]
     },
     "execution_count": 11,
     "metadata": {},
     "output_type": "execute_result"
    }
   ],
   "source": [
    "import re\n",
    "import nltk\n",
    "from nltk.corpus import stopwords\n",
    "from sklearn.datasets import load_files\n",
    "nltk.download('stopwords')\n",
    "nltk.download('punkt')"
   ]
  },
  {
   "cell_type": "code",
   "execution_count": 12,
   "metadata": {},
   "outputs": [],
   "source": [
    "def remove_stopword(data,col):\n",
    "    corpus=[]\n",
    "    s=set(stopwords.words('english'))\n",
    "    s1=['not','or','no','nor']\n",
    "    for i in s1:\n",
    "        if i in s:\n",
    "            s.remove(i)\n",
    "    for i in range(len(data[col])):\n",
    "        words = nltk.word_tokenize(data[col][i])\n",
    "        word1 = [word for word in words if word not in s]\n",
    "        corpus.append(' '.join(word1))\n",
    "    return corpus"
   ]
  },
  {
   "cell_type": "code",
   "execution_count": 16,
   "metadata": {},
   "outputs": [],
   "source": [
    "df['CleanedText']=remove_stopword(df,'CleanedText')"
   ]
  },
  {
   "cell_type": "code",
   "execution_count": 18,
   "metadata": {},
   "outputs": [
    {
     "data": {
      "text/html": [
       "<div>\n",
       "<style scoped>\n",
       "    .dataframe tbody tr th:only-of-type {\n",
       "        vertical-align: middle;\n",
       "    }\n",
       "\n",
       "    .dataframe tbody tr th {\n",
       "        vertical-align: top;\n",
       "    }\n",
       "\n",
       "    .dataframe thead th {\n",
       "        text-align: right;\n",
       "    }\n",
       "</style>\n",
       "<table border=\"1\" class=\"dataframe\">\n",
       "  <thead>\n",
       "    <tr style=\"text-align: right;\">\n",
       "      <th></th>\n",
       "      <th>ImageName</th>\n",
       "      <th>ImageText</th>\n",
       "      <th>CleanedText</th>\n",
       "    </tr>\n",
       "  </thead>\n",
       "  <tbody>\n",
       "    <tr>\n",
       "      <td>0</td>\n",
       "      <td>Test100.jpg</td>\n",
       "      <td></td>\n",
       "      <td></td>\n",
       "    </tr>\n",
       "    <tr>\n",
       "      <td>1</td>\n",
       "      <td>Test1001.jpg</td>\n",
       "      <td>When people ask\\nwhat I see in you,\\n\\nI just ...</td>\n",
       "      <td>people ask see smile look away afraid knew fal...</td>\n",
       "    </tr>\n",
       "    <tr>\n",
       "      <td>2</td>\n",
       "      <td>Test1012.jpg</td>\n",
       "      <td>LOVE\\nis TOO\\nTO BE HI\\nIN THE CL</td>\n",
       "      <td>love hi cl</td>\n",
       "    </tr>\n",
       "    <tr>\n",
       "      <td>3</td>\n",
       "      <td>Test1022.jpg</td>\n",
       "      <td>LOVE</td>\n",
       "      <td>love</td>\n",
       "    </tr>\n",
       "    <tr>\n",
       "      <td>4</td>\n",
       "      <td>Test103.jpg</td>\n",
       "      <td>: MTBE</td>\n",
       "      <td>mtbe</td>\n",
       "    </tr>\n",
       "    <tr>\n",
       "      <td>...</td>\n",
       "      <td>...</td>\n",
       "      <td>...</td>\n",
       "      <td>...</td>\n",
       "    </tr>\n",
       "    <tr>\n",
       "      <td>234</td>\n",
       "      <td>Test945.jpg</td>\n",
       "      <td>HATE\\nIt was a Lot\\nor rroOmLENMS IN THIS\\nWOR...</td>\n",
       "      <td>hate lot or rroomlenms world hut not solyed on...</td>\n",
       "    </tr>\n",
       "    <tr>\n",
       "      <td>235</td>\n",
       "      <td>Test946.jpg</td>\n",
       "      <td>\"I am not free\\nwhile any woman\\nis unfree, ev...</td>\n",
       "      <td>not free woman unfree even shackles different ...</td>\n",
       "    </tr>\n",
       "    <tr>\n",
       "      <td>236</td>\n",
       "      <td>Test957.jpg</td>\n",
       "      <td>[ ool cma\\n\\n| AM THANKFUL FOR EVERY SINGLE DA...</td>\n",
       "      <td>ool cma thankful every single day oooooooooooooo</td>\n",
       "    </tr>\n",
       "    <tr>\n",
       "      <td>237</td>\n",
       "      <td>Test979.jpg</td>\n",
       "      <td></td>\n",
       "      <td></td>\n",
       "    </tr>\n",
       "    <tr>\n",
       "      <td>238</td>\n",
       "      <td>Test993.jpg</td>\n",
       "      <td>Being gay is not a crime\\n\\nand it is not a si...</td>\n",
       "      <td>gay not crime not sin stop using god justify p...</td>\n",
       "    </tr>\n",
       "  </tbody>\n",
       "</table>\n",
       "<p>239 rows × 3 columns</p>\n",
       "</div>"
      ],
      "text/plain": [
       "        ImageName                                          ImageText  \\\n",
       "0     Test100.jpg                                                      \n",
       "1    Test1001.jpg  When people ask\\nwhat I see in you,\\n\\nI just ...   \n",
       "2    Test1012.jpg                  LOVE\\nis TOO\\nTO BE HI\\nIN THE CL   \n",
       "3    Test1022.jpg                                               LOVE   \n",
       "4     Test103.jpg                                             : MTBE   \n",
       "..            ...                                                ...   \n",
       "234   Test945.jpg  HATE\\nIt was a Lot\\nor rroOmLENMS IN THIS\\nWOR...   \n",
       "235   Test946.jpg  \"I am not free\\nwhile any woman\\nis unfree, ev...   \n",
       "236   Test957.jpg  [ ool cma\\n\\n| AM THANKFUL FOR EVERY SINGLE DA...   \n",
       "237   Test979.jpg                                                      \n",
       "238   Test993.jpg  Being gay is not a crime\\n\\nand it is not a si...   \n",
       "\n",
       "                                           CleanedText  \n",
       "0                                                       \n",
       "1    people ask see smile look away afraid knew fal...  \n",
       "2                                           love hi cl  \n",
       "3                                                 love  \n",
       "4                                                 mtbe  \n",
       "..                                                 ...  \n",
       "234  hate lot or rroomlenms world hut not solyed on...  \n",
       "235  not free woman unfree even shackles different ...  \n",
       "236   ool cma thankful every single day oooooooooooooo  \n",
       "237                                                     \n",
       "238  gay not crime not sin stop using god justify p...  \n",
       "\n",
       "[239 rows x 3 columns]"
      ]
     },
     "execution_count": 18,
     "metadata": {},
     "output_type": "execute_result"
    }
   ],
   "source": [
    "df"
   ]
  },
  {
   "cell_type": "code",
   "execution_count": null,
   "metadata": {},
   "outputs": [],
   "source": []
  },
  {
   "cell_type": "code",
   "execution_count": 19,
   "metadata": {},
   "outputs": [
    {
     "data": {
      "text/html": [
       "<div>\n",
       "<style scoped>\n",
       "    .dataframe tbody tr th:only-of-type {\n",
       "        vertical-align: middle;\n",
       "    }\n",
       "\n",
       "    .dataframe tbody tr th {\n",
       "        vertical-align: top;\n",
       "    }\n",
       "\n",
       "    .dataframe thead th {\n",
       "        text-align: right;\n",
       "    }\n",
       "</style>\n",
       "<table border=\"1\" class=\"dataframe\">\n",
       "  <thead>\n",
       "    <tr style=\"text-align: right;\">\n",
       "      <th></th>\n",
       "      <th>ImageName</th>\n",
       "      <th>ImageText</th>\n",
       "      <th>CleanedText</th>\n",
       "    </tr>\n",
       "  </thead>\n",
       "  <tbody>\n",
       "    <tr>\n",
       "      <td>0</td>\n",
       "      <td>Test100.jpg</td>\n",
       "      <td></td>\n",
       "      <td></td>\n",
       "    </tr>\n",
       "    <tr>\n",
       "      <td>1</td>\n",
       "      <td>Test1001.jpg</td>\n",
       "      <td>When people ask\\nwhat I see in you,\\n\\nI just ...</td>\n",
       "      <td>people ask see smile look away afraid knew fal...</td>\n",
       "    </tr>\n",
       "    <tr>\n",
       "      <td>2</td>\n",
       "      <td>Test1012.jpg</td>\n",
       "      <td>LOVE\\nis TOO\\nTO BE HI\\nIN THE CL</td>\n",
       "      <td>love hi cl</td>\n",
       "    </tr>\n",
       "    <tr>\n",
       "      <td>3</td>\n",
       "      <td>Test1022.jpg</td>\n",
       "      <td>LOVE</td>\n",
       "      <td>love</td>\n",
       "    </tr>\n",
       "    <tr>\n",
       "      <td>4</td>\n",
       "      <td>Test103.jpg</td>\n",
       "      <td>: MTBE</td>\n",
       "      <td>mtbe</td>\n",
       "    </tr>\n",
       "  </tbody>\n",
       "</table>\n",
       "</div>"
      ],
      "text/plain": [
       "      ImageName                                          ImageText  \\\n",
       "0   Test100.jpg                                                      \n",
       "1  Test1001.jpg  When people ask\\nwhat I see in you,\\n\\nI just ...   \n",
       "2  Test1012.jpg                  LOVE\\nis TOO\\nTO BE HI\\nIN THE CL   \n",
       "3  Test1022.jpg                                               LOVE   \n",
       "4   Test103.jpg                                             : MTBE   \n",
       "\n",
       "                                         CleanedText  \n",
       "0                                                     \n",
       "1  people ask see smile look away afraid knew fal...  \n",
       "2                                         love hi cl  \n",
       "3                                               love  \n",
       "4                                               mtbe  "
      ]
     },
     "execution_count": 19,
     "metadata": {},
     "output_type": "execute_result"
    }
   ],
   "source": [
    "df.head()"
   ]
  },
  {
   "cell_type": "code",
   "execution_count": 20,
   "metadata": {},
   "outputs": [
    {
     "data": {
      "text/html": [
       "<div>\n",
       "<style scoped>\n",
       "    .dataframe tbody tr th:only-of-type {\n",
       "        vertical-align: middle;\n",
       "    }\n",
       "\n",
       "    .dataframe tbody tr th {\n",
       "        vertical-align: top;\n",
       "    }\n",
       "\n",
       "    .dataframe thead th {\n",
       "        text-align: right;\n",
       "    }\n",
       "</style>\n",
       "<table border=\"1\" class=\"dataframe\">\n",
       "  <thead>\n",
       "    <tr style=\"text-align: right;\">\n",
       "      <th></th>\n",
       "      <th>ImageName</th>\n",
       "      <th>ImageText</th>\n",
       "      <th>CleanedText</th>\n",
       "    </tr>\n",
       "  </thead>\n",
       "  <tbody>\n",
       "    <tr>\n",
       "      <td>192</td>\n",
       "      <td>Test536.jpg</td>\n",
       "      <td>\"BE STRONG,\\nYOU NEVER\\nKNOW WHO\\n\\nYOU ARE\\nI...</td>\n",
       "      <td>strong never know inspiring</td>\n",
       "    </tr>\n",
       "  </tbody>\n",
       "</table>\n",
       "</div>"
      ],
      "text/plain": [
       "       ImageName                                          ImageText  \\\n",
       "192  Test536.jpg  \"BE STRONG,\\nYOU NEVER\\nKNOW WHO\\n\\nYOU ARE\\nI...   \n",
       "\n",
       "                     CleanedText  \n",
       "192  strong never know inspiring  "
      ]
     },
     "execution_count": 20,
     "metadata": {},
     "output_type": "execute_result"
    }
   ],
   "source": [
    "df[df['ImageName']=='Test536.jpg']"
   ]
  },
  {
   "cell_type": "code",
   "execution_count": null,
   "metadata": {},
   "outputs": [],
   "source": []
  },
  {
   "cell_type": "code",
   "execution_count": 21,
   "metadata": {},
   "outputs": [],
   "source": [
    "from textblob import TextBlob"
   ]
  },
  {
   "cell_type": "code",
   "execution_count": 22,
   "metadata": {},
   "outputs": [
    {
     "data": {
      "text/plain": [
       "'strong never know inspiring'"
      ]
     },
     "execution_count": 22,
     "metadata": {},
     "output_type": "execute_result"
    }
   ],
   "source": [
    "df['CleanedText'][192]"
   ]
  },
  {
   "cell_type": "code",
   "execution_count": 24,
   "metadata": {},
   "outputs": [],
   "source": [
    "df['Polarity']=df.CleanedText.copy()"
   ]
  },
  {
   "cell_type": "code",
   "execution_count": 25,
   "metadata": {},
   "outputs": [],
   "source": [
    "for i in range(len(df)):\n",
    "        if len(df['CleanedText'][i])>3:\n",
    "            senti=TextBlob(df['CleanedText'][i])\n",
    "            df['Polarity'][i]=senti.polarity\n",
    "           \n",
    "        else:\n",
    "            df['Polarity'][i]=0\n",
    "            \n",
    "            "
   ]
  },
  {
   "cell_type": "code",
   "execution_count": 26,
   "metadata": {},
   "outputs": [
    {
     "data": {
      "text/html": [
       "<div>\n",
       "<style scoped>\n",
       "    .dataframe tbody tr th:only-of-type {\n",
       "        vertical-align: middle;\n",
       "    }\n",
       "\n",
       "    .dataframe tbody tr th {\n",
       "        vertical-align: top;\n",
       "    }\n",
       "\n",
       "    .dataframe thead th {\n",
       "        text-align: right;\n",
       "    }\n",
       "</style>\n",
       "<table border=\"1\" class=\"dataframe\">\n",
       "  <thead>\n",
       "    <tr style=\"text-align: right;\">\n",
       "      <th></th>\n",
       "      <th>ImageName</th>\n",
       "      <th>ImageText</th>\n",
       "      <th>CleanedText</th>\n",
       "      <th>Polarity</th>\n",
       "    </tr>\n",
       "  </thead>\n",
       "  <tbody>\n",
       "    <tr>\n",
       "      <td>0</td>\n",
       "      <td>Test100.jpg</td>\n",
       "      <td></td>\n",
       "      <td></td>\n",
       "      <td>0</td>\n",
       "    </tr>\n",
       "    <tr>\n",
       "      <td>1</td>\n",
       "      <td>Test1001.jpg</td>\n",
       "      <td>When people ask\\nwhat I see in you,\\n\\nI just ...</td>\n",
       "      <td>people ask see smile look away afraid knew fal...</td>\n",
       "      <td>0.0666667</td>\n",
       "    </tr>\n",
       "    <tr>\n",
       "      <td>2</td>\n",
       "      <td>Test1012.jpg</td>\n",
       "      <td>LOVE\\nis TOO\\nTO BE HI\\nIN THE CL</td>\n",
       "      <td>love hi cl</td>\n",
       "      <td>0.5</td>\n",
       "    </tr>\n",
       "    <tr>\n",
       "      <td>3</td>\n",
       "      <td>Test1022.jpg</td>\n",
       "      <td>LOVE</td>\n",
       "      <td>love</td>\n",
       "      <td>0.5</td>\n",
       "    </tr>\n",
       "    <tr>\n",
       "      <td>4</td>\n",
       "      <td>Test103.jpg</td>\n",
       "      <td>: MTBE</td>\n",
       "      <td>mtbe</td>\n",
       "      <td>0</td>\n",
       "    </tr>\n",
       "    <tr>\n",
       "      <td>...</td>\n",
       "      <td>...</td>\n",
       "      <td>...</td>\n",
       "      <td>...</td>\n",
       "      <td>...</td>\n",
       "    </tr>\n",
       "    <tr>\n",
       "      <td>234</td>\n",
       "      <td>Test945.jpg</td>\n",
       "      <td>HATE\\nIt was a Lot\\nor rroOmLENMS IN THIS\\nWOR...</td>\n",
       "      <td>hate lot or rroomlenms world hut not solyed on...</td>\n",
       "      <td>-0.8</td>\n",
       "    </tr>\n",
       "    <tr>\n",
       "      <td>235</td>\n",
       "      <td>Test946.jpg</td>\n",
       "      <td>\"I am not free\\nwhile any woman\\nis unfree, ev...</td>\n",
       "      <td>not free woman unfree even shackles different ...</td>\n",
       "      <td>-0.1</td>\n",
       "    </tr>\n",
       "    <tr>\n",
       "      <td>236</td>\n",
       "      <td>Test957.jpg</td>\n",
       "      <td>[ ool cma\\n\\n| AM THANKFUL FOR EVERY SINGLE DA...</td>\n",
       "      <td>ool cma thankful every single day oooooooooooooo</td>\n",
       "      <td>-0.0714286</td>\n",
       "    </tr>\n",
       "    <tr>\n",
       "      <td>237</td>\n",
       "      <td>Test979.jpg</td>\n",
       "      <td></td>\n",
       "      <td></td>\n",
       "      <td>0</td>\n",
       "    </tr>\n",
       "    <tr>\n",
       "      <td>238</td>\n",
       "      <td>Test993.jpg</td>\n",
       "      <td>Being gay is not a crime\\n\\nand it is not a si...</td>\n",
       "      <td>gay not crime not sin stop using god justify p...</td>\n",
       "      <td>0.230556</td>\n",
       "    </tr>\n",
       "  </tbody>\n",
       "</table>\n",
       "<p>239 rows × 4 columns</p>\n",
       "</div>"
      ],
      "text/plain": [
       "        ImageName                                          ImageText  \\\n",
       "0     Test100.jpg                                                      \n",
       "1    Test1001.jpg  When people ask\\nwhat I see in you,\\n\\nI just ...   \n",
       "2    Test1012.jpg                  LOVE\\nis TOO\\nTO BE HI\\nIN THE CL   \n",
       "3    Test1022.jpg                                               LOVE   \n",
       "4     Test103.jpg                                             : MTBE   \n",
       "..            ...                                                ...   \n",
       "234   Test945.jpg  HATE\\nIt was a Lot\\nor rroOmLENMS IN THIS\\nWOR...   \n",
       "235   Test946.jpg  \"I am not free\\nwhile any woman\\nis unfree, ev...   \n",
       "236   Test957.jpg  [ ool cma\\n\\n| AM THANKFUL FOR EVERY SINGLE DA...   \n",
       "237   Test979.jpg                                                      \n",
       "238   Test993.jpg  Being gay is not a crime\\n\\nand it is not a si...   \n",
       "\n",
       "                                           CleanedText   Polarity  \n",
       "0                                                               0  \n",
       "1    people ask see smile look away afraid knew fal...  0.0666667  \n",
       "2                                           love hi cl        0.5  \n",
       "3                                                 love        0.5  \n",
       "4                                                 mtbe          0  \n",
       "..                                                 ...        ...  \n",
       "234  hate lot or rroomlenms world hut not solyed on...       -0.8  \n",
       "235  not free woman unfree even shackles different ...       -0.1  \n",
       "236   ool cma thankful every single day oooooooooooooo -0.0714286  \n",
       "237                                                             0  \n",
       "238  gay not crime not sin stop using god justify p...   0.230556  \n",
       "\n",
       "[239 rows x 4 columns]"
      ]
     },
     "execution_count": 26,
     "metadata": {},
     "output_type": "execute_result"
    }
   ],
   "source": [
    "df"
   ]
  },
  {
   "cell_type": "code",
   "execution_count": 27,
   "metadata": {},
   "outputs": [],
   "source": [
    "def sentiment(value):\n",
    "    if value>0:\n",
    "        return 'Positve'\n",
    "    elif value==0:\n",
    "        return 'Random'\n",
    "    elif value<0.20:\n",
    "        return 'Negative'\n",
    "    else:\n",
    "        pass\n",
    "    \n",
    "    "
   ]
  },
  {
   "cell_type": "code",
   "execution_count": 28,
   "metadata": {},
   "outputs": [],
   "source": [
    "df['Seniment']=df['Polarity'].apply(sentiment)"
   ]
  },
  {
   "cell_type": "code",
   "execution_count": 29,
   "metadata": {},
   "outputs": [
    {
     "data": {
      "text/html": [
       "<div>\n",
       "<style scoped>\n",
       "    .dataframe tbody tr th:only-of-type {\n",
       "        vertical-align: middle;\n",
       "    }\n",
       "\n",
       "    .dataframe tbody tr th {\n",
       "        vertical-align: top;\n",
       "    }\n",
       "\n",
       "    .dataframe thead th {\n",
       "        text-align: right;\n",
       "    }\n",
       "</style>\n",
       "<table border=\"1\" class=\"dataframe\">\n",
       "  <thead>\n",
       "    <tr style=\"text-align: right;\">\n",
       "      <th></th>\n",
       "      <th>ImageName</th>\n",
       "      <th>ImageText</th>\n",
       "      <th>CleanedText</th>\n",
       "      <th>Polarity</th>\n",
       "      <th>Seniment</th>\n",
       "    </tr>\n",
       "  </thead>\n",
       "  <tbody>\n",
       "    <tr>\n",
       "      <td>0</td>\n",
       "      <td>Test100.jpg</td>\n",
       "      <td></td>\n",
       "      <td></td>\n",
       "      <td>0</td>\n",
       "      <td>Random</td>\n",
       "    </tr>\n",
       "    <tr>\n",
       "      <td>1</td>\n",
       "      <td>Test1001.jpg</td>\n",
       "      <td>When people ask\\nwhat I see in you,\\n\\nI just ...</td>\n",
       "      <td>people ask see smile look away afraid knew fal...</td>\n",
       "      <td>0.0666667</td>\n",
       "      <td>Positve</td>\n",
       "    </tr>\n",
       "    <tr>\n",
       "      <td>2</td>\n",
       "      <td>Test1012.jpg</td>\n",
       "      <td>LOVE\\nis TOO\\nTO BE HI\\nIN THE CL</td>\n",
       "      <td>love hi cl</td>\n",
       "      <td>0.5</td>\n",
       "      <td>Positve</td>\n",
       "    </tr>\n",
       "    <tr>\n",
       "      <td>3</td>\n",
       "      <td>Test1022.jpg</td>\n",
       "      <td>LOVE</td>\n",
       "      <td>love</td>\n",
       "      <td>0.5</td>\n",
       "      <td>Positve</td>\n",
       "    </tr>\n",
       "    <tr>\n",
       "      <td>4</td>\n",
       "      <td>Test103.jpg</td>\n",
       "      <td>: MTBE</td>\n",
       "      <td>mtbe</td>\n",
       "      <td>0</td>\n",
       "      <td>Random</td>\n",
       "    </tr>\n",
       "    <tr>\n",
       "      <td>...</td>\n",
       "      <td>...</td>\n",
       "      <td>...</td>\n",
       "      <td>...</td>\n",
       "      <td>...</td>\n",
       "      <td>...</td>\n",
       "    </tr>\n",
       "    <tr>\n",
       "      <td>234</td>\n",
       "      <td>Test945.jpg</td>\n",
       "      <td>HATE\\nIt was a Lot\\nor rroOmLENMS IN THIS\\nWOR...</td>\n",
       "      <td>hate lot or rroomlenms world hut not solyed on...</td>\n",
       "      <td>-0.8</td>\n",
       "      <td>Negative</td>\n",
       "    </tr>\n",
       "    <tr>\n",
       "      <td>235</td>\n",
       "      <td>Test946.jpg</td>\n",
       "      <td>\"I am not free\\nwhile any woman\\nis unfree, ev...</td>\n",
       "      <td>not free woman unfree even shackles different ...</td>\n",
       "      <td>-0.1</td>\n",
       "      <td>Negative</td>\n",
       "    </tr>\n",
       "    <tr>\n",
       "      <td>236</td>\n",
       "      <td>Test957.jpg</td>\n",
       "      <td>[ ool cma\\n\\n| AM THANKFUL FOR EVERY SINGLE DA...</td>\n",
       "      <td>ool cma thankful every single day oooooooooooooo</td>\n",
       "      <td>-0.0714286</td>\n",
       "      <td>Negative</td>\n",
       "    </tr>\n",
       "    <tr>\n",
       "      <td>237</td>\n",
       "      <td>Test979.jpg</td>\n",
       "      <td></td>\n",
       "      <td></td>\n",
       "      <td>0</td>\n",
       "      <td>Random</td>\n",
       "    </tr>\n",
       "    <tr>\n",
       "      <td>238</td>\n",
       "      <td>Test993.jpg</td>\n",
       "      <td>Being gay is not a crime\\n\\nand it is not a si...</td>\n",
       "      <td>gay not crime not sin stop using god justify p...</td>\n",
       "      <td>0.230556</td>\n",
       "      <td>Positve</td>\n",
       "    </tr>\n",
       "  </tbody>\n",
       "</table>\n",
       "<p>239 rows × 5 columns</p>\n",
       "</div>"
      ],
      "text/plain": [
       "        ImageName                                          ImageText  \\\n",
       "0     Test100.jpg                                                      \n",
       "1    Test1001.jpg  When people ask\\nwhat I see in you,\\n\\nI just ...   \n",
       "2    Test1012.jpg                  LOVE\\nis TOO\\nTO BE HI\\nIN THE CL   \n",
       "3    Test1022.jpg                                               LOVE   \n",
       "4     Test103.jpg                                             : MTBE   \n",
       "..            ...                                                ...   \n",
       "234   Test945.jpg  HATE\\nIt was a Lot\\nor rroOmLENMS IN THIS\\nWOR...   \n",
       "235   Test946.jpg  \"I am not free\\nwhile any woman\\nis unfree, ev...   \n",
       "236   Test957.jpg  [ ool cma\\n\\n| AM THANKFUL FOR EVERY SINGLE DA...   \n",
       "237   Test979.jpg                                                      \n",
       "238   Test993.jpg  Being gay is not a crime\\n\\nand it is not a si...   \n",
       "\n",
       "                                           CleanedText   Polarity  Seniment  \n",
       "0                                                               0    Random  \n",
       "1    people ask see smile look away afraid knew fal...  0.0666667   Positve  \n",
       "2                                           love hi cl        0.5   Positve  \n",
       "3                                                 love        0.5   Positve  \n",
       "4                                                 mtbe          0    Random  \n",
       "..                                                 ...        ...       ...  \n",
       "234  hate lot or rroomlenms world hut not solyed on...       -0.8  Negative  \n",
       "235  not free woman unfree even shackles different ...       -0.1  Negative  \n",
       "236   ool cma thankful every single day oooooooooooooo -0.0714286  Negative  \n",
       "237                                                             0    Random  \n",
       "238  gay not crime not sin stop using god justify p...   0.230556   Positve  \n",
       "\n",
       "[239 rows x 5 columns]"
      ]
     },
     "execution_count": 29,
     "metadata": {},
     "output_type": "execute_result"
    }
   ],
   "source": [
    "df"
   ]
  },
  {
   "cell_type": "code",
   "execution_count": 30,
   "metadata": {},
   "outputs": [],
   "source": [
    "df_final=df[['ImageName','Seniment']]"
   ]
  },
  {
   "cell_type": "code",
   "execution_count": 31,
   "metadata": {},
   "outputs": [],
   "source": [
    "df_final.columns=['Filename','Category']"
   ]
  },
  {
   "cell_type": "code",
   "execution_count": 32,
   "metadata": {},
   "outputs": [],
   "source": [
    "df_final.to_csv('S2.csv',index=False)"
   ]
  },
  {
   "cell_type": "code",
   "execution_count": null,
   "metadata": {},
   "outputs": [],
   "source": []
  }
 ],
 "metadata": {
  "kernelspec": {
   "display_name": "Python 3",
   "language": "python",
   "name": "python3"
  },
  "language_info": {
   "codemirror_mode": {
    "name": "ipython",
    "version": 3
   },
   "file_extension": ".py",
   "mimetype": "text/x-python",
   "name": "python",
   "nbconvert_exporter": "python",
   "pygments_lexer": "ipython3",
   "version": "3.7.3"
  }
 },
 "nbformat": 4,
 "nbformat_minor": 2
}
